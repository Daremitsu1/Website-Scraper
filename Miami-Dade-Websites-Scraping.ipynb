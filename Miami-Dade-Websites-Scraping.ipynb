{
 "cells": [
  {
   "cell_type": "markdown",
   "id": "77dfee62",
   "metadata": {},
   "source": [
    "### 1. Code Enforcement"
   ]
  },
  {
   "cell_type": "code",
   "execution_count": null,
   "id": "992fce55",
   "metadata": {},
   "outputs": [],
   "source": [
    "!pip install webdriver-manager\n",
    "!pip install selenium"
   ]
  },
  {
   "cell_type": "code",
   "execution_count": 3,
   "id": "24b3306a",
   "metadata": {},
   "outputs": [],
   "source": [
    "%config Completer.use_jedi = False"
   ]
  },
  {
   "cell_type": "markdown",
   "id": "1718ca63",
   "metadata": {},
   "source": [
    "#### 1.1. Install Dependencies"
   ]
  },
  {
   "cell_type": "code",
   "execution_count": 2,
   "id": "5ec18804",
   "metadata": {},
   "outputs": [],
   "source": [
    "from selenium import webdriver\n",
    "from selenium.webdriver.chrome.options import Options\n",
    "from webdriver_manager.chrome import ChromeDriverManager\n",
    "from selenium.webdriver.support.ui import WebDriverWait\n",
    "from selenium.webdriver.support import expected_conditions as EC\n",
    "from selenium.webdriver.common.by import By\n",
    "import os, time, random, pandas as pd \n",
    "from bs4 import BeautifulSoup as bs\n",
    "import urllib.request"
   ]
  },
  {
   "cell_type": "markdown",
   "id": "699ef00f",
   "metadata": {},
   "source": [
    "#### 1.2. Set Chromedriver Paths"
   ]
  },
  {
   "cell_type": "code",
   "execution_count": 34,
   "id": "45e2f9e5",
   "metadata": {},
   "outputs": [
    {
     "name": "stdout",
     "output_type": "stream",
     "text": [
      "\n"
     ]
    },
    {
     "name": "stderr",
     "output_type": "stream",
     "text": [
      "[WDM] - ====== WebDriver manager ======\n",
      "[WDM] - Current google-chrome version is 102.0.5005\n",
      "[WDM] - Get LATEST chromedriver version for 102.0.5005 google-chrome\n",
      "[WDM] - About to download new driver from https://chromedriver.storage.googleapis.com/102.0.5005.61/chromedriver_win32.zip\n",
      "[WDM] - Driver has been saved in cache [C:\\Users\\aviparna.biswas\\.wdm\\drivers\\chromedriver\\win32\\102.0.5005.61]\n",
      "C:\\Users\\aviparna.biswas\\Anaconda3\\envs\\docuchief\\lib\\site-packages\\ipykernel_launcher.py:4: DeprecationWarning: executable_path has been deprecated, please pass in a Service object\n",
      "  after removing the cwd from sys.path.\n"
     ]
    }
   ],
   "source": [
    "options = webdriver.ChromeOptions()\n",
    "options.headless = True\n",
    "\n",
    "driver = webdriver.Chrome(ChromeDriverManager().install(), options=options)"
   ]
  },
  {
   "cell_type": "code",
   "execution_count": 35,
   "id": "5c11a91f",
   "metadata": {},
   "outputs": [
    {
     "name": "stderr",
     "output_type": "stream",
     "text": [
      "C:\\Users\\aviparna.biswas\\Anaconda3\\envs\\docuchief\\lib\\site-packages\\ipykernel_launcher.py:2: DeprecationWarning: executable_path has been deprecated, please pass in a Service object\n",
      "  \n"
     ]
    }
   ],
   "source": [
    "#Set Chromedriver Path\n",
    "driver = webdriver.Chrome('driver/chromedriver.exe')\n",
    "driver.maximize_window()"
   ]
  },
  {
   "cell_type": "markdown",
   "id": "d306ca71",
   "metadata": {},
   "source": [
    "#### 1.3. Launch URLs and visit page"
   ]
  },
  {
   "cell_type": "code",
   "execution_count": 36,
   "id": "c786c2ab",
   "metadata": {},
   "outputs": [],
   "source": [
    "#Launch URL\n",
    "driver.get('https://www2.miami-dadeclerk.com/cef/CitationSearch.aspx')"
   ]
  },
  {
   "cell_type": "code",
   "execution_count": 37,
   "id": "a0a486cb",
   "metadata": {},
   "outputs": [
    {
     "name": "stderr",
     "output_type": "stream",
     "text": [
      "C:\\Users\\aviparna.biswas\\Anaconda3\\envs\\docuchief\\lib\\site-packages\\ipykernel_launcher.py:2: DeprecationWarning: find_element_by_link_text is deprecated. Please use find_element(by=By.LINK_TEXT, value=link_text) instead\n",
      "  \n"
     ]
    }
   ],
   "source": [
    "#Click on Browser Folio\n",
    "folio_button = driver.find_element_by_link_text('Folio').click()\n",
    "\n",
    "#Take data from a config file\n",
    "file = open('config.txt')\n",
    "lines = file.readlines()\n",
    "folio_number = lines[0]"
   ]
  },
  {
   "cell_type": "code",
   "execution_count": 7,
   "id": "03f5df1f",
   "metadata": {},
   "outputs": [
    {
     "name": "stderr",
     "output_type": "stream",
     "text": [
      "C:\\Users\\aviparna.biswas\\Anaconda3\\envs\\docuchief\\lib\\site-packages\\ipykernel_launcher.py:2: DeprecationWarning: find_element_by_css_selector is deprecated. Please use find_element(by=By.CSS_SELECTOR, value=css_selector) instead\n",
      "  \n",
      "C:\\Users\\aviparna.biswas\\Anaconda3\\envs\\docuchief\\lib\\site-packages\\ipykernel_launcher.py:5: DeprecationWarning: find_element_by_css_selector is deprecated. Please use find_element(by=By.CSS_SELECTOR, value=css_selector) instead\n",
      "  \"\"\"\n"
     ]
    }
   ],
   "source": [
    "#Select elements from config.txt and send the inputs\n",
    "elementID = driver.find_element_by_css_selector(\"input[class*='form-control'][name='ctl00$ContentPlaceHolder1$txtFolioNumber']\")\n",
    "elementID.send_keys(folio_number)\n",
    "\n",
    "elementID = driver.find_element_by_css_selector(\"input[id*='btnFolioSearch'][name='ctl00$ContentPlaceHolder1$btnFolioSearch']\").click()"
   ]
  },
  {
   "cell_type": "markdown",
   "id": "eae37d0e",
   "metadata": {},
   "source": [
    "#### 1.4. Take full-page snapshot"
   ]
  },
  {
   "cell_type": "code",
   "execution_count": null,
   "id": "73464a62",
   "metadata": {},
   "outputs": [],
   "source": [
    "S = lambda X: driver.execute_script('return document.body.parentNode.scroll' + X)\n",
    "#driver.set_window_size(S('Width'),S('Height')) # May need manual adjustment                                                                                                                \n",
    "driver.find_element_by_tag_name('html').screenshot(os.getcwd()+\"/CitationSearch/\"+folio_number+\".png\")"
   ]
  },
  {
   "cell_type": "code",
   "execution_count": null,
   "id": "8f13c216",
   "metadata": {},
   "outputs": [],
   "source": [
    "driver.find_element_by_tag_name('html').screenshot(os.getcwd()+\"/CitationSearch/\"+folio_number+\".png\")"
   ]
  },
  {
   "cell_type": "code",
   "execution_count": null,
   "id": "6b85f738",
   "metadata": {},
   "outputs": [],
   "source": [
    "def save_screenshot(driver: webdriver.Chrome, path: str = '/Citation Search/') -> None:\n",
    "    # Ref: https://stackoverflow.com/a/52572919/\n",
    "    original_size = driver.get_window_size()\n",
    "    required_width = driver.execute_script('return document.body.parentNode.scrollWidth')\n",
    "    required_height = driver.execute_script('return document.body.parentNode.scrollHeight')\n",
    "    driver.set_window_size(required_width, required_height)\n",
    "    # driver.save_screenshot(path)  # has scrollbar\n",
    "    driver.find_element_by_tag_name('body').screenshot(path)  # avoids scrollbar\n",
    "    driver.set_window_size(original_size['width'], original_size['height'])"
   ]
  },
  {
   "cell_type": "code",
   "execution_count": null,
   "id": "fbea9e0b",
   "metadata": {},
   "outputs": [],
   "source": []
  },
  {
   "cell_type": "markdown",
   "id": "72e75cf4",
   "metadata": {},
   "source": [
    "#### 1.5. Extract Data from the Folios"
   ]
  },
  {
   "cell_type": "code",
   "execution_count": 8,
   "id": "afef8c78",
   "metadata": {},
   "outputs": [
    {
     "data": {
      "text/plain": [
       "<html class=\"no-js\" xml:lang=\"en\" xmlns=\"http://www.w3.org/1999/xhtml\"><head><meta content=\"IE=Edge\" http-equiv=\"X-UA-Compatible\"/><title>\n",
       "\tMiami-Dade County Clerk Code Enforcement\n",
       "</title><link href=\"Content/main.css\" rel=\"stylesheet\" type=\"text/css\"/><link href=\"Content/site.css\" rel=\"stylesheet\" type=\"text/css\"/><link href=\"Content/bootstrap.min.css\" rel=\"stylesheet\" type=\"text/css\"/><link href=\"Content/font-awesome.min.css\" rel=\"stylesheet\" type=\"text/css\"/>\n",
       "<script src=\"Scripts/jquery-2.1.4.min.js\" type=\"text/javascript\"></script>\n",
       "<!-- LOAD COMMON CSS LIBRARIES -->\n",
       "<link href=\"/Assets/css/tabPanel.css\" rel=\"stylesheet\" type=\"text/css\"/>\n",
       "<link href=\"/Assets/css/requiredField.css\" rel=\"stylesheet\" type=\"text/css\"/>\n",
       "<link href=\"/Assets/css/helper.css\" rel=\"stylesheet\" type=\"text/css\"/>\n",
       "<link href=\"Content/cef.css\" rel=\"stylesheet\" type=\"text/css\"/>\n",
       "<link href=\"/Assets/css/back-to-top.css\" rel=\"stylesheet\" type=\"text/css\"/>\n",
       "<link href=\"/Assets/css/library/bootstrap-datetimepicker.min.css\" rel=\"stylesheet\" type=\"text/css\"/>\n",
       "<link href=\"/Assets/css/spacers.css\" rel=\"stylesheet\" type=\"text/css\"/>\n",
       "<meta content=\"IE=edge,chrome=1\" http-equiv=\"X-UA-Compatible\"/><meta content=\"width=device-width, initial-scale=1.0\" name=\"viewport\"/><link href=\"/CEF/WebResource.axd?d=vkWub2r5BPob7Ua-DojGisxaUp34mBrvHUWVw6mQjKfmhrVgh-gD6vu9xbEqo0z0sSYxtGiNg8Xxuyo888el4OA3EFvHKim1P9tBDZPGybEBQLqa0&amp;t=637471748138188607\" id=\"ctl00_bootstrapCSS\" rel=\"stylesheet\" type=\"text/css\"/><link href=\"/CEF/WebResource.axd?d=8eBv3TzRd3sXxbL89Ky55lAQ7V6MG2vVKyfQdubv_fYxj8RPimatxSkLqt2dkkFMEH4LIGgnE_EOY-0nz3EV8TVF9c9wkyPAMFyFf9a2G8Ye7NwKwwpqwiknmck4jMHYRgk40g2&amp;t=637471748138188607\" id=\"ctl00_webcontrolCSS_header\" rel=\"stylesheet\" type=\"text/css\"/><link href=\"/CEF/WebResource.axd?d=vkWub2r5BPob7Ua-DojGisxaUp34mBrvHUWVw6mQjKfmhrVgh-gD6vu9xbEqo0z0sSYxtGiNg8Xxuyo888el4OA3EFvHKim1P9tBDZPGybEBQLqa0&amp;t=637471748138188607\" id=\"ctl00_font-awesomeCSS\" rel=\"stylesheet\" type=\"text/css\"/><link href=\"https://fonts.googleapis.com/css?family=Oswald:500&amp;display=swap\" id=\"ctl00_font-familyCSS\" rel=\"stylesheet\" type=\"text/css\"/><link href=\"/CEF/WebResource.axd?d=5fuDSH7NRLpY96qS3u3hwo-zQcLXlEQk6S3UEd8CyKJzh_vwlViWajw3pLD4k66LrTQ6ZHTzlO00mB2Oz9iz2qcUKpHlO0fbk4UajHKzpEQax7FE0&amp;t=637471748138188607\" id=\"ctl00_mainfont-familyCSS\" rel=\"stylesheet\" type=\"text/css\"/><script id=\"ctl00_jqueryJS\" src=\"/CEF/WebResource.axd?d=--bPQl39pcwv0Wzskgi6US7dcAYYx2GHk_9nDxaK0B2S7wGevA1FJ0A86nEhIv2lY7_0dcvDFP4wRnE4_89D-7DeDb-WLLLJFgyfm8dvJFrIXUpRlvRkq-WdCdRcVM6vMECuQA2&amp;t=637471748138188607\" type=\"text/javascript\"></script><script id=\"ctl00_bootstrapJS\" src=\"/CEF/WebResource.axd?d=yiSUKnyHN20yVxqBDXgnEyJrWgGodGTI6tQV-_uHL4YUe6ItWtp5694tqTXQVE1HY2A8FeiDjJejwQKH06IBk_1xoCIzbSu67hNH9BPtplGg_rxkv8F7AVwIt-2Eucr0tewtDg2&amp;t=637471748138188607\" type=\"text/javascript\"></script><meta content=\"IE=edge,chrome=1\" http-equiv=\"X-UA-Compatible\"/><meta content=\"width=device-width, initial-scale=1.0\" name=\"viewport\"/><link href=\"/CEF/WebResource.axd?d=Qck5H98WC_jbi_754xX2u4jjlh5cQFphx-Vkp2_Q5meW_T6kPldw4zdpi3EPRQavH_obc_PGRQctvbqXiKhW3FLMtBDb-MnOyFzbzsSaJSXvi9b43DWDgkr3gk8flnQFz6Q9RQ2&amp;t=637471748138188607\" id=\"ctl00_footerbootstrapCSS\" rel=\"stylesheet\" type=\"text/css\"/><link href=\"/CEF/WebResource.axd?d=8eBv3TzRd3sXxbL89Ky55lAQ7V6MG2vVKyfQdubv_fYxj8RPimatxSkLqt2dkkFMEH4LIGgnE_EOY-0nz3EV8TVF9c9wkyPAMFyFf9a2G8Ye7NwKwwpqwiknmck4jMHYRgk40g2&amp;t=637471748138188607\" id=\"ctl00_footerwebcontrolCSS_header\" rel=\"stylesheet\" type=\"text/css\"/><link href=\"/CEF/WebResource.axd?d=Qck5H98WC_jbi_754xX2u4jjlh5cQFphx-Vkp2_Q5meW_T6kPldw4zdpi3EPRQavH_obc_PGRQctvbqXiKhW3FLMtBDb-MnOyFzbzsSaJSXvi9b43DWDgkr3gk8flnQFz6Q9RQ2&amp;t=637471748138188607\" id=\"ctl00_footerfont-awesomeCSS\" rel=\"stylesheet\" type=\"text/css\"/><link href=\"https://fonts.googleapis.com/css?family=Oswald:500&amp;display=swap\" id=\"ctl00_footermainfont-familyCSS\" rel=\"stylesheet\" type=\"text/css\"/><link href=\"/CEF/WebResource.axd?d=5fuDSH7NRLpY96qS3u3hwo-zQcLXlEQk6S3UEd8CyKJzh_vwlViWajw3pLD4k66LrTQ6ZHTzlO00mB2Oz9iz2qcUKpHlO0fbk4UajHKzpEQax7FE0&amp;t=637471748138188607\" id=\"ctl00_footerfont-familyCSS\" rel=\"stylesheet\" type=\"text/css\"/><script id=\"ctl00_jqueryJS\" src=\"/CEF/WebResource.axd?d=--bPQl39pcwv0Wzskgi6US7dcAYYx2GHk_9nDxaK0B2S7wGevA1FJ0A86nEhIv2lY7_0dcvDFP4wRnE4_89D-7DeDb-WLLLJFgyfm8dvJFrIXUpRlvRkq-WdCdRcVM6vMECuQA2&amp;t=637471748138188607\" type=\"text/javascript\"></script><script id=\"ctl00_bootstrapJS\" src=\"/CEF/WebResource.axd?d=yiSUKnyHN20yVxqBDXgnEyJrWgGodGTI6tQV-_uHL4YUe6ItWtp5694tqTXQVE1HY2A8FeiDjJejwQKH06IBk_1xoCIzbSu67hNH9BPtplGg_rxkv8F7AVwIt-2Eucr0tewtDg2&amp;t=637471748138188607\" type=\"text/javascript\"></script><script id=\"ctl00_footer_mainJS\" src=\"/CEF/WebResource.axd?d=xzMlfV7ZEiOYAxZUL9s6VMh5-0WrqPmXUw3p-rs5Hj4T4H4dGwFpHivjIbEUilPR7EpRdB0Yzs06HYhFV_n7d7gO6cqRUjSW6_pxOE52mmHYbt_L0&amp;t=637471748138188607\" type=\"text/javascript\"></script></head>\n",
       "<body style=\"zoom: 1;\">\n",
       "<div id=\"formContainerPanel\">\n",
       "<form action=\"./CitationSearch.aspx\" id=\"form1\" method=\"post\">\n",
       "<div class=\"aspNetHidden\">\n",
       "<input id=\"__EVENTTARGET\" name=\"__EVENTTARGET\" type=\"hidden\" value=\"\"/>\n",
       "<input id=\"__EVENTARGUMENT\" name=\"__EVENTARGUMENT\" type=\"hidden\" value=\"\"/>\n",
       "<input id=\"__VIEWSTATE\" name=\"__VIEWSTATE\" type=\"hidden\" value=\"iSgrCMcndFs8HPIemhx0DEzk1zG6cAzD8HsF34YR0xfrLCh8nAzsf+b/EaxtNZHA61ywUSuyBoX2KJrD8iXBZByKPFeGpoSPtVWX1FQSyHCkkEWrxrPfzmW0NaMR7lBgqeIvZxe/rMiMKU/jTUAhapWIA60vd86LrM8Pqd5MUcYmJWrzixRsm9+PGWC7FIKqgOG1fJd50GtDJTL4dk34CgnUiZ+JbwQ50JqgttjE7DC22Tv93tQpRHoPZIe6z+j71AhHaNTpqVhrT2ZYVVKUw+PiySczRMaisVlp+fQzlCnoH/nGezjb9A6u+vjWqXy+ECdA97yNG0xv/u+o3Tuh96d1/2r7ssvw6BnCKOWrnJpATucybp3r7H/SqICAwh7DQ0LP8FF9CQ9Tw65yjv7PlRP+JV0TF3S04akh6ZV3N77Y259uaCVfYH2ht6o41KHkIoWcQkElFiP6+YSxQ5n1jpUrC2hQQTZQFZ1blXpAwSwOzTMaAdkgBqCq9/QmqsXykKx2va89lU6rxjMW4ojS8MVFSRKvOjXmzPoopJOms1uf7Dw4LOV8qo0U0fdApOF5xFJL2ykBXHZt2waRWpa5F7nMu98rSkof/4g8zIP1/ImvUzbYEOOCMT0hV6Uj/R3cRQoTWLkdsh+ZV395+jX7irxrQWcGSfPmoXHUJZ+6ECxrVLyro+ivqivAYsT1QGUxa5aZ/Mua3zD9tiix+JiPZzDsQUfYSL6iiGc28bMzn5iYqUExu2Fimaa9EHucAMl3Fu3O9fcRhaArYdspCUhrPsg15hGnGNyp6weu2p3ffvVi39hZ57K5qrDc2cHww7nPTS4mt+WMlTH3GGlW2oTBrw1zU9sHfciWK15wyWRdG8MF+F3GBDlgGbGqRqIh5GPsYWvnDfEUOkkgL2QEyWU41kWpr7zqeNHoFGVWsVRc54Nu3zpB0xNq9Uxcqar0jS9YpM6pzU+G/5WsxhIzlLaT3ueqt0i0HqlgpsMxke2ub3/4zveUQq0yriHSySWWHBrTZMyCdqW+iOoJkxEiqGdHMyJNqevyZp0q9tB4fDga1VUG4QyhXssscNmOYyT810oH6p4DN392mn67dIPfnbP4dcvCxjMdUeTTVns1fKG37PTVhUXUsk64wNVBzZhNcYZTqudYBeeivESGG/wHNJIgEearz0mUiE4SAso72N8qfwwXxaTibs3hOj04u2J+/d6wr7UycsG5ChwmpoNjbrr2nQfS0MjT0Sn004k73mBwyCcP60EwBmhQKMfrJYs5CSULpvOS9OkdCCKM99EXZQltVbhFHYhewg9xCPsvMWMNcm3YLg1FN/3yLo8bELcTaL3LxrylCdsHJ6N0PHJnFjQTWzBH8pJKj9DWAHtAB0FxF2XL8TkgeUOhrz/k1ZMe4M6D6Y2jR6d37JEf8sZC0p6gHlF+KamkyVoz8GrxBvib5UKbcFMT/3o0hty7VRXVGVjvdudnzHBOy4AEl3Teuv+VIAwHa+DmGsRb5s2ovWeKoRCazQuqfq8dwNmud3OIVmu8wSZ6vN/pbDIlkaGvTLB066ztnPN5n2a8SydqF89OBFLYbah5Q1bBx7vA5clEIJRBhWi++Q==\"/>\n",
       "</div>\n",
       "<script type=\"text/javascript\">\n",
       "//<![CDATA[\n",
       "var theForm = document.forms['form1'];\n",
       "\tif (!theForm) {\n",
       "    theForm = document.form1;\n",
       "}\n",
       "\tfunction __doPostBack(eventTarget, eventArgument) {\n",
       "    if (!theForm.onsubmit || (theForm.onsubmit() != false)) {\n",
       "        theForm.__EVENTTARGET.value = eventTarget;\n",
       "        theForm.__EVENTARGUMENT.value = eventArgument;\n",
       "        theForm.submit();\n",
       "    }\n",
       "}\n",
       "\t//]]>\n",
       "</script>\n",
       "<script src=\"/CEF/WebResource.axd?d=pynGkmcFUV13He1Qd6_TZJj_T3Tlhiw4xqVlU7CGWk9JXiAoa1an7mxbrkDl9tTPOqbbBw2&amp;t=637811551220000000\" type=\"text/javascript\"></script>\n",
       "<script src=\"/CEF/ScriptResource.axd?d=x6wALODbMJK5e0eRC_p1LXlDw3AhHsfjQOYJQL_Z6OXQmAHlxwzXI1anesY-6-yUw4JOK4L6_n1vqIJUx70dtzi7NkRd-IC19qjDdNQ9_v2e5Wdh0&amp;t=ffffffffda74082d\" type=\"text/javascript\"></script>\n",
       "<script src=\"/CEF/ScriptResource.axd?d=P5lTttoqSeZXoYRLQMIScJc6BKoC0_TWBks6nXQqDqKnoPpUyakxKhWBNealy_ntWj_VrIgVuuro4Uw0fpkLQmVPB9GU1UcDJUebcbhDgJYB0PhY0&amp;t=ffffffffda74082d\" type=\"text/javascript\"></script>\n",
       "<div class=\"aspNetHidden\">\n",
       "<input id=\"__VIEWSTATEGENERATOR\" name=\"__VIEWSTATEGENERATOR\" type=\"hidden\" value=\"4B989B76\"/>\n",
       "<input id=\"__EVENTVALIDATION\" name=\"__EVENTVALIDATION\" type=\"hidden\" value=\"kxBb5SH9tpkoZDB3dOkmpbdKJG1gPuxVxD/XV+OqMFBAUkkaOVYG38a0PI8uqNHVTL79eH17B+U+D3ODZ69o/SZQEcYyb1JG6wlKF/AycqCR6IjIWcf0aVhS4oD9IvwmdF7joBkhd9ydBeb9KReVqtWLSz0bP2liSgQfrFq7/CS5Kq+s6c3Uxuy4MW03bTSNOmn1uZSiu/Kld2giGoUaOlaJxnY=\"/>\n",
       "</div>\n",
       "<script type=\"text/javascript\">\n",
       "//<![CDATA[\n",
       "Sys.WebForms.PageRequestManager._initialize('ctl00$ScriptManager1', 'form1', ['tctl00$upHeader',''], [], [], 90, 'ctl00');\n",
       "\t//]]>\n",
       "</script>\n",
       "<div id=\"ctl00_upHeader\">\n",
       "<span class=\"font-family\" id=\"ctl00_StandardHeader1\"><header class=\"coc-header\" id=\"coc-header\"><a class=\"sr-only sr-only-focusable\" href=\"#content\" id=\"outerAnchor\">Skip to main content</a><div class=\"coc-global-header\" id=\"outerHeaderDiv\"><div class=\"container\" id=\"middleHeaderDiv\"><div class=\"row\" id=\"innerHeaderDiv\"><div class=\"media coc__logo-heading\" id=\"logoContainerDiv\"><div class=\"media-left media-middle\" id=\"logoSubContainerDiv\"><a href=\"https://www.miami-dadeclerk.com/clerk/home.page\" id=\"ctl00_logoAnchor\"><img alt=\"Clerk of the Courts - Miami-Dade County, Florida\" class=\"media-object\" id=\"ctl00_bannerImage\" src=\"data:image/png;base64,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\"/></a></div><div class=\"media-body boxMiddle\" id=\"logoSubContainerDiv2\"><div class=\"coc-header-box\" id=\"SiteTtitleContainerDiv\"><h1 class=\"coc-header-title\" id=\"SiteTitlerH1\">Miami-Dade County Clerk of the Courts</h1><h2 class=\"coc-header-subtitle\" id=\"SiteSubTitlerH2\">Harvey Ruvin</h2></div></div><div class=\"boxMiddle\" id=\"logoSubContainerDiv3\"><div class=\"coc__links middle-align\" id=\"quicklinksSubContainerDiv\"><div id=\"quicklinksSubContainerDivUL11\"><a class=\"btn btn-link btn-sm\" href=\"https://www.miami-dadeclerk.com/clerk/contact.page\" id=\"ContactUsAnchor\">Contact Us</a></div><div id=\"quicklinksSubContainerDivUL21\"><a class=\"btn btn-link btn-sm\" href=\"/PremierServices/accountmanager.aspx\" id=\"MyAccountAnchor\">My Account</a></div><div id=\"quicklinksSubContainerDivUL41\"><a class=\"fa fa-shopping-cart fa-3x coc__user-basket\" data-content=\"&lt;div class='card mb-0 shadow-sm'&gt;&lt;div class='card-body'&gt;&lt;h6 class='card-title'&gt;&lt;small class='coc-small font-weight-bold'&gt;Your cart is empty&lt;/small&gt;&lt;/h6&gt;&lt;/div&gt;&lt;/div&gt;\" data-emptycart=\"true\" data-original-title=\"Cart | 0 items\" data-placement=\"bottom\" data-toggle=\"popover\" data-trigger=\"click\" id=\"ShoppingCartAnchor\" role=\"button\" style=\"text-decoration:none !important;\" tabindex=\"0\" title=\"\"><span class=\"sr-only\" id=\"ShoppingCartSpan\">User basket</span><div class=\"coc__user-basket__counter\" id=\"shoppingCartCounterDiv\" style=\"display:none;\"><span id=\"ShoppingCartCounterSpan\"></span></div></a></div></div></div></div></div></div></div></header></span>\n",
       "</div>\n",
       "<div class=\"container\">\n",
       "<div class=\"row\">\n",
       "<div class=\"col-sm\">\n",
       "<h1 class=\"coc-page-title\">Code Enforcement Online System</h1>\n",
       "</div>\n",
       "</div>\n",
       "<div class=\"clearfix\"></div>\n",
       "<div class=\"spacer20\"></div>\n",
       "<!-- BACK ACTION PANEL -->\n",
       "<div class=\"row\">\n",
       "<div class=\"col-md-12\">\n",
       "<div class=\"well well-sm\">\n",
       "<div class=\"row\">\n",
       "<div class=\"col-md-2\">\n",
       "<a class=\"btn btn-info cef-lnbtn-info\" href='javascript:WebForm_DoPostBackWithOptions(new WebForm_PostBackOptions(\"ctl00$ContentPlaceHolder1$lnkMultipleCasesNewSearch\", \"\", true, \"\", \"\", false, true))' id=\"lnkMultipleCasesNewSearch\" title=\"Back to the Search Menu\"><i class=\"fa fa-backward\"></i> New Search</a> \n",
       "                            </div>\n",
       "</div>\n",
       "</div>\n",
       "</div>\n",
       "</div>\n",
       "<div class=\"row\">\n",
       "<div class=\"col-md-10 col-md-offset-1\">\n",
       "<div class=\"alert alert-danger text-center\" style=\"display: none\">\n",
       "<span id=\"lblMultipleCitationsError\"></span>\n",
       "</div>\n",
       "</div>\n",
       "</div>\n",
       "<!-- SEARCH CRITERIA(S) PANEL -->\n",
       "<div class=\"row\">\n",
       "<div class=\"col-md-12\">\n",
       "<div class=\"panel panel-primary\" id=\"searchCriteriaContainer2\">\n",
       "<div class=\"panel-heading cef-panel-heading pointer toogle-image\" data-toggle=\"collapse\" href=\"#collapseFive\">\n",
       "<div class=\"panel-title\">\n",
       "<strong>Search Criteria</strong>\n",
       "<span aria-expanded=\"true\" class=\"pull-right pointer toogle-image\" data-toggle=\"collapse\"><i class=\"glyphicon glyphicon-minus pointer\" title=\"Criteria List\"></i></span>\n",
       "</div>\n",
       "</div>\n",
       "<div class=\"panel-collaps collapse in\" id=\"collapseFive\">\n",
       "<div class=\"panel-body\">\n",
       "<span id=\"lblMultipleCitationsCriteria\">Folio Number: <strong>01-3123-037-1470 - ALL CITATIONS</strong></span>\n",
       "</div>\n",
       "</div>\n",
       "</div>\n",
       "</div>\n",
       "</div>\n",
       "<div class=\"row\">\n",
       "<div class=\"col-md-12\">\n",
       "<div class=\"panel panel-primary\">\n",
       "<div class=\"panel-heading cef-panel-heading\">\n",
       "<div class=\"panel-title\">\n",
       "<i class=\"fa fa-lg fa-list imageSpacing\"></i>Citation(s) List \n",
       "                                <div class=\"pull-right top\">\n",
       "<div class=\"badge cef-badge-text\">\n",
       "                                        Total of Citation: <span id=\"lblCases\">4</span>\n",
       "</div>\n",
       "</div>\n",
       "</div>\n",
       "</div>\n",
       "<div class=\"panel-body no-margin\">\n",
       "<table class=\"table table-bordered table-condensed table-striped no-margin\">\n",
       "<thead>\n",
       "<tr>\n",
       "<th></th>\n",
       "<th>Citation</th>\n",
       "<th>Issued Date</th>\n",
       "<th>Total Due</th>\n",
       "<th style=\"text-align: left; width: 35%\">\n",
       "<span id=\"lblColumn4Header\">  Name</span>\n",
       "</th>\n",
       "<th style=\"text-align: left; width: 35%\">\n",
       "<span id=\"lblColumn5Header\">  Address</span>\n",
       "</th>\n",
       "</tr>\n",
       "</thead>\n",
       "<tbody><tr>\n",
       "<td>\n",
       "<a class=\"btn btn-link pointer\" href='javascript:WebForm_DoPostBackWithOptions(new WebForm_PostBackOptions(\"ctl00$ContentPlaceHolder1$rptMultipleCitations$ctl00$ctl00\", \"\", true, \"\", \"\", false, true))' title=\"View Citation Information1\"><span class=\"fa fa-2x fa-info-circle\"></span></a>\n",
       "</td>\n",
       "<td>  S001916\n",
       "                                            </td>\n",
       "<td>  1/ 3/2010  \n",
       "                                            </td>\n",
       "<td>\n",
       "                                                $0.00\n",
       "                                            </td>\n",
       "<td>\n",
       "                                                  KING, FREDRICK\n",
       "                                            </td>\n",
       "<td>\n",
       "                                                  1400 NW 44 ST\n",
       "                                            </td>\n",
       "</tr>\n",
       "<tr>\n",
       "<td>\n",
       "<a class=\"btn btn-link pointer\" href='javascript:WebForm_DoPostBackWithOptions(new WebForm_PostBackOptions(\"ctl00$ContentPlaceHolder1$rptMultipleCitations$ctl01$ctl00\", \"\", true, \"\", \"\", false, true))' title=\"View Citation Information2\"><span class=\"fa fa-2x fa-info-circle\"></span></a>\n",
       "</td>\n",
       "<td>  S004852\n",
       "                                            </td>\n",
       "<td>  5/26/2010  \n",
       "                                            </td>\n",
       "<td>\n",
       "                                                $0.00\n",
       "                                            </td>\n",
       "<td>\n",
       "                                                  KING, FREDERICK\n",
       "                                            </td>\n",
       "<td>\n",
       "                                                  1400 NW 44 ST\n",
       "                                            </td>\n",
       "</tr>\n",
       "<tr>\n",
       "<td>\n",
       "<a class=\"btn btn-link pointer\" href='javascript:WebForm_DoPostBackWithOptions(new WebForm_PostBackOptions(\"ctl00$ContentPlaceHolder1$rptMultipleCitations$ctl02$ctl00\", \"\", true, \"\", \"\", false, true))' title=\"View Citation Information3\"><span class=\"fa fa-2x fa-info-circle\"></span></a>\n",
       "</td>\n",
       "<td>  S004853\n",
       "                                            </td>\n",
       "<td>  5/26/2010  \n",
       "                                            </td>\n",
       "<td>\n",
       "                                                $0.00\n",
       "                                            </td>\n",
       "<td>\n",
       "                                                  KING, FREDERICK\n",
       "                                            </td>\n",
       "<td>\n",
       "                                                  1400 NW 44 ST\n",
       "                                            </td>\n",
       "</tr>\n",
       "<tr>\n",
       "<td>\n",
       "<a class=\"btn btn-link pointer\" href='javascript:WebForm_DoPostBackWithOptions(new WebForm_PostBackOptions(\"ctl00$ContentPlaceHolder1$rptMultipleCitations$ctl03$ctl00\", \"\", true, \"\", \"\", false, true))' title=\"View Citation Information4\"><span class=\"fa fa-2x fa-info-circle\"></span></a>\n",
       "</td>\n",
       "<td>  S001917\n",
       "                                            </td>\n",
       "<td>  1/ 3/2010  \n",
       "                                            </td>\n",
       "<td>\n",
       "                                                $0.00\n",
       "                                            </td>\n",
       "<td>\n",
       "                                                  KING, FREDRICK\n",
       "                                            </td>\n",
       "<td>\n",
       "                                                  1400 NW 44 ST\n",
       "                                            </td>\n",
       "</tr>\n",
       "</tbody></table>\n",
       "</div>\n",
       "</div>\n",
       "</div>\n",
       "</div>\n",
       "<div class=\"row\">\n",
       "<div class=\"col-md-12\">\n",
       "<div class=\"well well-sm\">\n",
       "<div class=\"row\">\n",
       "<div class=\"col-xs-5 text-left\">\n",
       "<a class=\"btn btn-info cef-lnbtn-info\" href='javascript:WebForm_DoPostBackWithOptions(new WebForm_PostBackOptions(\"ctl00$ContentPlaceHolder1$lnkMultipleCitationsNewSearch\", \"\", true, \"\", \"\", false, true))' id=\"lnkMultipleCitationsNewSearch\" title=\"Modify Current Search\"><i class=\"fa fa-backward\"></i> New Search</a> \n",
       "                            </div>\n",
       "</div>\n",
       "</div>\n",
       "</div>\n",
       "</div>\n",
       "<!-- LOAD COMMON LIBRARIES -->\n",
       "<script src=\"/Assets/js/library/moment.min.js\" type=\"text/javascript\"></script>\n",
       "<script src=\"/Assets/js/library/bootstrap-datetimepicker.min.js\" type=\"text/javascript\"></script>\n",
       "<script src=\"/Assets/js/tab-panel-with-footer.js\" type=\"text/javascript\"></script>\n",
       "<script src=\"/Assets/js/required-field.js\" type=\"text/javascript\"></script>\n",
       "<script src=\"/Assets/js/reset-fields.js\" type=\"text/javascript\"></script>\n",
       "<script src=\"/Assets/js/click-panel.js\" type=\"text/javascript\"></script>\n",
       "<script src=\"/Assets/js/jquery.watermark.min.js\" type=\"text/javascript\"></script>\n",
       "<script src=\"/Assets/js/popover-hover.js\" type=\"text/javascript\"></script>\n",
       "<script src=\"/Assets/js/toogle-icon.js\" type=\"text/javascript\"></script>\n",
       "<script src=\"/Assets/js/back-to-top.js\" type=\"text/javascript\"></script>\n",
       "<script src=\"/Assets/js/date-range.js\" type=\"text/javascript\"></script>\n",
       "<script type=\"text/javascript\">\n",
       "        $(':text').watermark({ textAttr: 'placeholder' });\n",
       "\n",
       "        $(function () {\n",
       "            $('[data-toggle=\"popover\"]').popover()\n",
       "        })\n",
       "\n",
       "        $(\".modal-wide\").on(\"show.bs.modal\", function () {\n",
       "            var height = $(window).height() - 200;\n",
       "            $(this).find(\".modal-body\").css(\"max-height\", height);\n",
       "        });\n",
       "\n",
       "        //$(function () {\n",
       "        //    $('#lnkSubmitPayment').click(function (e) { e.preventDefault(); }).click();\n",
       "        //});\n",
       "\n",
       "        function newWindow(url, height) {\n",
       "\n",
       "            //Window Property Parameters\n",
       "            var dirs = \"no\";\n",
       "            var loc = \"no\";\n",
       "            var menu = \"no\";\n",
       "            var scrs = \"yes\";\n",
       "            var stat = \"no\";\n",
       "            var tool = \"no\";\n",
       "            var resize = \"yes\";\n",
       "            //Set up the window property variables for interpolation\n",
       "            var features = 'directories=' + dirs +\n",
       "                ',height=' + height +\n",
       "                ',location=' + loc +\n",
       "                ',menubar=' + menu +\n",
       "                ',scrollbars=' + scrs +\n",
       "                ',status=' + stat +\n",
       "                ',toolbar=' + tool +\n",
       "                ',resizable=' + resize;\n",
       "\n",
       "            //Open the window\n",
       "            window.open(url, '_blank', features);\n",
       "        }\n",
       "\n",
       "        var bTab;\n",
       "        function FocusEvent(oThisField) {\n",
       "            if (oThisField.value.length == oThisField.maxLength) {\n",
       "                oThisField.select();\n",
       "                bTab = false;\n",
       "            }\n",
       "            else {\n",
       "                bTab = true;\n",
       "            }\n",
       "        }\n",
       "\n",
       "        function KeyPressEvent() {\n",
       "            bTab = true;\n",
       "        }\n",
       "\n",
       "        function KeyUpEvent(oThisField, oNextField) {\n",
       "            if (oThisField.value.length == oThisField.maxLength && bTab) {\n",
       "                oNextField.focus();\n",
       "            }\n",
       "        }\n",
       "\n",
       "        function ValidatePaymentOptions(source, arguments) {\n",
       "            if ((document.getElementById(\"rbPaymentFull\") != null && document.getElementById(\"rbPaymentFull\").checked) ||\n",
       "               (document.getElementById(\"rbPaymentPlan\") != null && document.getElementById(\"rbPaymentPlan\").checked) ||\n",
       "               (document.getElementById(\"rbPaymentAnyAmount\") != null && document.getElementById(\"rbPaymentAnyAmount\").checked)) {\n",
       "                arguments.IsValid = true;\n",
       "            }\n",
       "            else {\n",
       "                arguments.IsValid = false;\n",
       "            }\n",
       "        }\n",
       "    </script>\n",
       "</div>\n",
       "<span class=\"footer_font-family\" id=\"ctl00_StandardFooter1\"><footer class=\"coc-global-footer coc-bg-dark-blue text-right p-2\" id=\"coc-footer\"><div class=\"container h-100\" id=\"outerFooterDiv\"><div class=\"row align-items-center middle-align\" id=\"middleFooterDiv\"><div class=\"col-lg-7 justify-content-center ml-4 pl-4 mt-2 pt-2\" id=\"innerFooterDiv\"><h4 class=\"text-left\" id=\"FooterGeneralH4\">General</h4><ul class=\"coc-global-footer__links\" id=\"FooterGeneralUl\"><li><a class=\"btn btn-link btn-xs\" href=\"default.aspx\">Code Enforcement Home</a></li><li><a class=\"btn btn-link btn-xs\" href=\"https://www.miami-dadeclerk.com/clerk/code-enforcement.page\">Code Enforcement Information</a></li><li><a class=\"btn btn-link btn-xs\" href=\"/PremierServices/login.aspx\">Login</a></li></ul><h4 class=\"text-left\" id=\"FooterHaSH4\">Help and Support</h4><ul class=\"coc-global-footer__links\" id=\"FooterHaSUl\"><li><a class=\"btn btn-link btn-xs\" href=\"https://www.miami-dadeclerk.com/clerk/home.page\">Clerk's Home</a></li><li><a class=\"btn btn-link btn-xs\" href=\"https://www8.miamidade.gov/global/disclaimer/privacy-and-security.page\">Privacy Statement</a></li><li><a class=\"btn btn-link btn-xs\" href=\"https://www8.miamidade.gov/global/disclaimer/ada-notice.page\">ADA Notice</a></li><li><a class=\"btn btn-link btn-xs\" href=\"https://www8.miamidade.gov/global/disclaimer/disclaimer.page\">Disclaimer</a></li><li><a class=\"btn btn-link btn-xs\" href=\"https://www.miami-dadeclerk.com/clerk/contact.page\">Contact Us</a></li><li><a class=\"btn btn-link btn-xs\" href=\"https://www.miami-dadeclerk.com/clerk/about.page\">About Us</a></li></ul></div><div class=\"col-lg-2 coc-global-footer__logo-copyrights\" id=\"FooterLogoDiv\"><p><a href=\"https://www.miami-dadeclerk.com/clerk/home.page\" id=\"FooterLogoAnchor\"><img alt=\"Miami-Dade County Clerk of Courts Homepage\" class=\"img-fluid coc-global-footer__coc-logo\" id=\"footerLogoImage\" src=\"data:image/png;base64,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\"/></a></p></div><div class=\"col-lg-2 coc-footer-contact text-left mt-2 pt-2\" id=\"FooterInfoDiv\"><h2 class=\"coc-footer-subtitle\" id=\"FooterInfoH2\">HARVEY RUVIN</h2><p>Miami-Dade County <br/>Clerk of the Courts</p><p>73 W. Flagler Street<br/>Miami, Florida 33130</p><p>305-275-1155</p></div></div></div></footer><div class=\"coc-footer-copyright\" id=\"coc-bootom-footer\"><div class=\"container\" id=\"BottomOuterDiv\"><div class=\"col-lg-12 coc-footer-copyright__text\" id=\"CopyrightDiv\"><div><p> ©<span id=\"footer-current-year\">2022</span> Clerk of the Courts. All rights reserved.</p><a href=\"https://www8.miamidade.gov/global/home.page\" id=\"CopyrightLogoAnchor\"><img alt=\"Miam-Dade County Homepage\" class=\"img-fluid coc-footer-copyright__coc-logo\" src=\"data:image/png;base64,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\"/></a></div></div></div></div></span>\n",
       "<button disabled=\"disabled\" hidden=\"true\" type=\"submit\">Submit</button>\n",
       "</form>\n",
       "</div>\n",
       "<span id=\"ctl00_lblGoogleStatScript\"><script language=\"javascript\" src=\"/ga1.js\" type=\"text/javascript\"></script><script src=\"https://ssl.google-analytics.com/ga.js\" type=\"text/javascript\"></script></span>\n",
       "<span id=\"ctl00_lblGoogleStatScript2\"><script language=\"javascript\" src=\"/ga2.js\" type=\"text/javascript\"></script></span>\n",
       "</body></html>"
      ]
     },
     "execution_count": 8,
     "metadata": {},
     "output_type": "execute_result"
    }
   ],
   "source": [
    "#Extract html elements\n",
    "page = bs(driver.page_source, features='html.parser')\n",
    "page"
   ]
  },
  {
   "cell_type": "code",
   "execution_count": 9,
   "id": "be9fd363",
   "metadata": {
    "scrolled": true
   },
   "outputs": [
    {
     "data": {
      "text/plain": [
       "[<a class=\"btn btn-link pointer\" href='javascript:WebForm_DoPostBackWithOptions(new WebForm_PostBackOptions(\"ctl00$ContentPlaceHolder1$rptMultipleCitations$ctl00$ctl00\", \"\", true, \"\", \"\", false, true))' title=\"View Citation Information1\"><span class=\"fa fa-2x fa-info-circle\"></span></a>,\n",
       " <a class=\"btn btn-link pointer\" href='javascript:WebForm_DoPostBackWithOptions(new WebForm_PostBackOptions(\"ctl00$ContentPlaceHolder1$rptMultipleCitations$ctl01$ctl00\", \"\", true, \"\", \"\", false, true))' title=\"View Citation Information2\"><span class=\"fa fa-2x fa-info-circle\"></span></a>,\n",
       " <a class=\"btn btn-link pointer\" href='javascript:WebForm_DoPostBackWithOptions(new WebForm_PostBackOptions(\"ctl00$ContentPlaceHolder1$rptMultipleCitations$ctl02$ctl00\", \"\", true, \"\", \"\", false, true))' title=\"View Citation Information3\"><span class=\"fa fa-2x fa-info-circle\"></span></a>,\n",
       " <a class=\"btn btn-link pointer\" href='javascript:WebForm_DoPostBackWithOptions(new WebForm_PostBackOptions(\"ctl00$ContentPlaceHolder1$rptMultipleCitations$ctl03$ctl00\", \"\", true, \"\", \"\", false, true))' title=\"View Citation Information4\"><span class=\"fa fa-2x fa-info-circle\"></span></a>]"
      ]
     },
     "execution_count": 9,
     "metadata": {},
     "output_type": "execute_result"
    }
   ],
   "source": [
    "#Find the content\n",
    "content = page.find_all('a',{'class':\"btn btn-link pointer\"})\n",
    "content"
   ]
  },
  {
   "cell_type": "code",
   "execution_count": 10,
   "id": "6fda87f5",
   "metadata": {},
   "outputs": [
    {
     "name": "stdout",
     "output_type": "stream",
     "text": [
      "4 data\n"
     ]
    }
   ],
   "source": [
    "#Get the info length\n",
    "myinfo = []\n",
    "\n",
    "for info in content:\n",
    "    myinfo.append(info.get('href'))\n",
    "    \n",
    "print(len(myinfo), 'data')"
   ]
  },
  {
   "cell_type": "code",
   "execution_count": 22,
   "id": "23abc6de",
   "metadata": {},
   "outputs": [
    {
     "name": "stderr",
     "output_type": "stream",
     "text": [
      "C:\\Users\\aviparna.biswas\\Anaconda3\\envs\\docuchief\\lib\\site-packages\\ipykernel_launcher.py:9: DeprecationWarning: find_element_by_css_selector is deprecated. Please use find_element(by=By.CSS_SELECTOR, value=css_selector) instead\n",
      "  if __name__ == '__main__':\n",
      "C:\\Users\\aviparna.biswas\\Anaconda3\\envs\\docuchief\\lib\\site-packages\\ipykernel_launcher.py:14: DeprecationWarning: find_element_by_xpath is deprecated. Please use find_element(by=By.XPATH, value=xpath) instead\n",
      "  \n",
      "C:\\Users\\aviparna.biswas\\Anaconda3\\envs\\docuchief\\lib\\site-packages\\ipykernel_launcher.py:15: DeprecationWarning: find_element_by_xpath is deprecated. Please use find_element(by=By.XPATH, value=xpath) instead\n",
      "  from ipykernel import kernelapp as app\n",
      "C:\\Users\\aviparna.biswas\\Anaconda3\\envs\\docuchief\\lib\\site-packages\\ipykernel_launcher.py:17: DeprecationWarning: find_element_by_css_selector is deprecated. Please use find_element(by=By.CSS_SELECTOR, value=css_selector) instead\n"
     ]
    }
   ],
   "source": [
    "#Loop to get the data\n",
    "templist = []\n",
    "\n",
    "for x in range(0, len(myinfo)):\n",
    "    data = str(x+1)\n",
    "    strSelector = \"a[title*='View Citation Information\"\n",
    "    strSelectorEnd = \"']\"\n",
    "    finalSelector = strSelector+data+strSelectorEnd\n",
    "    driver.find_element_by_css_selector(finalSelector).click()\n",
    "    \n",
    "\n",
    "    status = driver.execute_script('return arguments[0].childNodes[5].textContent;', WebDriverWait(driver, 20).until(EC.visibility_of_element_located((By.CSS_SELECTOR, \"span#lblCitationHeader\")))).strip()\n",
    "    total_due = driver.execute_script('return arguments[0].lastChild.textContent;', WebDriverWait(driver, 20).until(EC.visibility_of_element_located((By.CSS_SELECTOR, \"span#lblCitationHeader\")))).strip()\n",
    "    issue_dept = driver.find_element_by_xpath('.//*[@id=\"form1\"]/div[4]/div[9]/div/div/div[2]/table/tbody/tr[5]/td[2]').text\n",
    "    lien_placed = driver.find_element_by_xpath('.//*[@id=\"lblLienPlaced\"]').text\n",
    "\n",
    "    driver.find_element_by_css_selector(\"a[id*='LinkButton1']\").click()\n",
    "\n",
    "    Table_dict = {\n",
    "        'Status': status,\n",
    "        'Total Due': total_due,\n",
    "        'Issuing Department': issue_dept,\n",
    "        'Lien_Placed': lien_placed\n",
    "        }\n",
    "\n",
    "    templist.append(Table_dict)\n",
    "    df = pd.DataFrame(templist)"
   ]
  },
  {
   "cell_type": "code",
   "execution_count": 23,
   "id": "192dcf79",
   "metadata": {},
   "outputs": [
    {
     "data": {
      "text/html": [
       "<div>\n",
       "<style scoped>\n",
       "    .dataframe tbody tr th:only-of-type {\n",
       "        vertical-align: middle;\n",
       "    }\n",
       "\n",
       "    .dataframe tbody tr th {\n",
       "        vertical-align: top;\n",
       "    }\n",
       "\n",
       "    .dataframe thead th {\n",
       "        text-align: right;\n",
       "    }\n",
       "</style>\n",
       "<table border=\"1\" class=\"dataframe\">\n",
       "  <thead>\n",
       "    <tr style=\"text-align: right;\">\n",
       "      <th></th>\n",
       "      <th>Status</th>\n",
       "      <th>Total Due</th>\n",
       "      <th>Issuing Department</th>\n",
       "      <th>Lien_Placed</th>\n",
       "    </tr>\n",
       "  </thead>\n",
       "  <tbody>\n",
       "    <tr>\n",
       "      <th>0</th>\n",
       "      <td>* DEPARTMENT CLOSED *</td>\n",
       "      <td>$0.00</td>\n",
       "      <td>05 ANIMAL SERVICES DEPARTMENT (305) 629-7387</td>\n",
       "      <td></td>\n",
       "    </tr>\n",
       "    <tr>\n",
       "      <th>1</th>\n",
       "      <td>* DEPARTMENT CLOSED *</td>\n",
       "      <td>$0.00</td>\n",
       "      <td>05 ANIMAL SERVICES DEPARTMENT (305) 629-7387</td>\n",
       "      <td></td>\n",
       "    </tr>\n",
       "    <tr>\n",
       "      <th>2</th>\n",
       "      <td>* DEPARTMENT CLOSED *</td>\n",
       "      <td>$0.00</td>\n",
       "      <td>05 ANIMAL SERVICES DEPARTMENT (305) 629-7387</td>\n",
       "      <td></td>\n",
       "    </tr>\n",
       "    <tr>\n",
       "      <th>3</th>\n",
       "      <td>* DEPARTMENT CLOSED *</td>\n",
       "      <td>$0.00</td>\n",
       "      <td>05 ANIMAL SERVICES DEPARTMENT (305) 629-7387</td>\n",
       "      <td></td>\n",
       "    </tr>\n",
       "  </tbody>\n",
       "</table>\n",
       "</div>"
      ],
      "text/plain": [
       "                  Status Total Due  \\\n",
       "0  * DEPARTMENT CLOSED *     $0.00   \n",
       "1  * DEPARTMENT CLOSED *     $0.00   \n",
       "2  * DEPARTMENT CLOSED *     $0.00   \n",
       "3  * DEPARTMENT CLOSED *     $0.00   \n",
       "\n",
       "                             Issuing Department Lien_Placed  \n",
       "0  05 ANIMAL SERVICES DEPARTMENT (305) 629-7387              \n",
       "1  05 ANIMAL SERVICES DEPARTMENT (305) 629-7387              \n",
       "2  05 ANIMAL SERVICES DEPARTMENT (305) 629-7387              \n",
       "3  05 ANIMAL SERVICES DEPARTMENT (305) 629-7387              "
      ]
     },
     "execution_count": 23,
     "metadata": {},
     "output_type": "execute_result"
    }
   ],
   "source": [
    "df"
   ]
  },
  {
   "cell_type": "code",
   "execution_count": null,
   "id": "047a8316",
   "metadata": {},
   "outputs": [],
   "source": [
    "driver.quit()"
   ]
  },
  {
   "cell_type": "markdown",
   "id": "41ca5e41",
   "metadata": {},
   "source": [
    "#### 1.6. Save data as csv"
   ]
  },
  {
   "cell_type": "code",
   "execution_count": 24,
   "id": "37734ade",
   "metadata": {},
   "outputs": [],
   "source": [
    "df.to_csv(os.getcwd() + \"/CitationSearch/\" + folio_number + \".csv\")"
   ]
  },
  {
   "cell_type": "markdown",
   "id": "9e35c4d8",
   "metadata": {},
   "source": [
    "### 2. Special Assessment"
   ]
  },
  {
   "cell_type": "markdown",
   "id": "a196903a",
   "metadata": {},
   "source": [
    "#### 2.1. Set Chromedriver paths"
   ]
  },
  {
   "cell_type": "code",
   "execution_count": 38,
   "id": "35984336",
   "metadata": {},
   "outputs": [
    {
     "name": "stderr",
     "output_type": "stream",
     "text": [
      "C:\\Users\\aviparna.biswas\\Anaconda3\\envs\\docuchief\\lib\\site-packages\\ipykernel_launcher.py:2: DeprecationWarning: executable_path has been deprecated, please pass in a Service object\n",
      "  \n"
     ]
    }
   ],
   "source": [
    "#Set Chromedriver Path\n",
    "driver = webdriver.Chrome('driver/chromedriver.exe')\n",
    "driver.maximize_window()"
   ]
  },
  {
   "cell_type": "markdown",
   "id": "47a3246b",
   "metadata": {},
   "source": [
    "#### 2.2. Launch URLs and visit page"
   ]
  },
  {
   "cell_type": "code",
   "execution_count": 39,
   "id": "22c3b8fe",
   "metadata": {},
   "outputs": [],
   "source": [
    "#Launch Url\n",
    "driver.get('https://gisweb.miamidade.gov/SPTXLienLetters/')"
   ]
  },
  {
   "cell_type": "code",
   "execution_count": 40,
   "id": "1876b56d",
   "metadata": {},
   "outputs": [
    {
     "name": "stderr",
     "output_type": "stream",
     "text": [
      "C:\\Users\\aviparna.biswas\\Anaconda3\\envs\\docuchief\\lib\\site-packages\\ipykernel_launcher.py:2: DeprecationWarning: find_element_by_xpath is deprecated. Please use find_element(by=By.XPATH, value=xpath) instead\n",
      "  \n"
     ]
    }
   ],
   "source": [
    "#Close Pop-up\n",
    "driver.find_element_by_xpath('//*[@id=\"divSplashScreenContent\"]/table/tbody/tr[2]/td/div/div').click()"
   ]
  },
  {
   "cell_type": "code",
   "execution_count": 41,
   "id": "0ce5ba90",
   "metadata": {},
   "outputs": [],
   "source": [
    "#Take data from config file\n",
    "file = open('configsa.txt')\n",
    "lines = file.readlines()\n",
    "folio_number = lines[0]"
   ]
  },
  {
   "cell_type": "code",
   "execution_count": 42,
   "id": "32ea66a6",
   "metadata": {},
   "outputs": [
    {
     "name": "stderr",
     "output_type": "stream",
     "text": [
      "C:\\Users\\aviparna.biswas\\Anaconda3\\envs\\docuchief\\lib\\site-packages\\ipykernel_launcher.py:2: DeprecationWarning: find_element_by_xpath is deprecated. Please use find_element(by=By.XPATH, value=xpath) instead\n",
      "  \n",
      "C:\\Users\\aviparna.biswas\\Anaconda3\\envs\\docuchief\\lib\\site-packages\\ipykernel_launcher.py:5: DeprecationWarning: find_element_by_xpath is deprecated. Please use find_element(by=By.XPATH, value=xpath) instead\n",
      "  \"\"\"\n"
     ]
    }
   ],
   "source": [
    "#Find elements and take snapshots\n",
    "elementID = driver.find_element_by_xpath('//*[@id=\"txtAddress\"]')\n",
    "elementID.send_keys(folio_number)\n",
    "\n",
    "elementID = driver.find_element_by_xpath('//*[@id=\"tdDivAddress\"]/table/tbody/tr/td[2]').click()"
   ]
  },
  {
   "cell_type": "code",
   "execution_count": 43,
   "id": "c7d2448c",
   "metadata": {},
   "outputs": [
    {
     "name": "stderr",
     "output_type": "stream",
     "text": [
      "C:\\Users\\aviparna.biswas\\Anaconda3\\envs\\docuchief\\lib\\site-packages\\ipykernel_launcher.py:3: DeprecationWarning: find_element_by_xpath is deprecated. Please use find_element(by=By.XPATH, value=xpath) instead\n",
      "  This is separate from the ipykernel package so we can avoid doing imports until\n"
     ]
    }
   ],
   "source": [
    "#Assign current window\n",
    "current_windows = driver.current_window_handle\n",
    "elementID = driver.find_element_by_xpath('//*[@id=\"trOtherAppLinks\"]/td/div/span[1]/a').click()"
   ]
  },
  {
   "cell_type": "code",
   "execution_count": 44,
   "id": "a8969713",
   "metadata": {},
   "outputs": [
    {
     "name": "stdout",
     "output_type": "stream",
     "text": [
      "Switch to new tab has been successful.\n"
     ]
    }
   ],
   "source": [
    "#Switch to a new tab\n",
    "all_handles = driver.window_handles\n",
    "driver.switch_to.window(all_handles[1])\n",
    "print('Switch to new tab has been successful.')"
   ]
  },
  {
   "cell_type": "code",
   "execution_count": 45,
   "id": "99dc6ebd",
   "metadata": {},
   "outputs": [
    {
     "data": {
      "text/plain": [
       "'https://gisweb.miamidade.gov/SPTXLienLetters/ReportPage.aspx?folio=0131230371470&pSecurityGuardDistrict=&pStreetLightDistrict=&pMultiPurposeDistrict=&pMunicipalityForDistrict=MIAMI&pAddressForDistrict=1400%20NW%2044%20ST'"
      ]
     },
     "execution_count": 45,
     "metadata": {},
     "output_type": "execute_result"
    }
   ],
   "source": [
    "#Get current browser\n",
    "pdf_browser = driver.current_url\n",
    "pdf_browser"
   ]
  },
  {
   "cell_type": "markdown",
   "id": "a17c1334",
   "metadata": {},
   "source": [
    "#### 2.3. Download the PDFs"
   ]
  },
  {
   "cell_type": "code",
   "execution_count": 47,
   "id": "6c9a8a64",
   "metadata": {},
   "outputs": [
    {
     "data": {
      "text/plain": [
       "('C:\\\\Users\\\\aviparna.biswas\\\\Python Projects\\\\Proplogix\\\\Web-Scraper/SpecialAssessment/0131230371470.pdf',\n",
       " <http.client.HTTPMessage at 0x1926287f788>)"
      ]
     },
     "execution_count": 47,
     "metadata": {},
     "output_type": "execute_result"
    }
   ],
   "source": [
    "download_path = os.getcwd() + '/SpecialAssessment/' + folio_number +'.pdf'\n",
    "urllib.request.urlretrieve(pdf_browser, download_path)"
   ]
  },
  {
   "cell_type": "markdown",
   "id": "8a79bbc9",
   "metadata": {},
   "source": [
    "#### 2.4. Take screenshot"
   ]
  },
  {
   "cell_type": "code",
   "execution_count": 48,
   "id": "e2b18282",
   "metadata": {},
   "outputs": [
    {
     "name": "stdout",
     "output_type": "stream",
     "text": [
      "Switch to initial tab has been successful.\n"
     ]
    }
   ],
   "source": [
    "#Switch back to initial page\n",
    "all_handles = driver.window_handles\n",
    "driver.switch_to.window(all_handles[0])\n",
    "print('Switch to initial tab has been successful.')"
   ]
  },
  {
   "cell_type": "code",
   "execution_count": 49,
   "id": "8eb36a0d",
   "metadata": {},
   "outputs": [
    {
     "data": {
      "text/plain": [
       "'https://gisweb.miamidade.gov/SPTXLienLetters/'"
      ]
     },
     "execution_count": 49,
     "metadata": {},
     "output_type": "execute_result"
    }
   ],
   "source": [
    "driver.current_url"
   ]
  },
  {
   "cell_type": "code",
   "execution_count": 50,
   "id": "4ab395e4",
   "metadata": {},
   "outputs": [
    {
     "name": "stderr",
     "output_type": "stream",
     "text": [
      "C:\\Users\\aviparna.biswas\\Anaconda3\\envs\\docuchief\\lib\\site-packages\\ipykernel_launcher.py:3: DeprecationWarning: find_element_by_xpath is deprecated. Please use find_element(by=By.XPATH, value=xpath) instead\n",
      "  This is separate from the ipykernel package so we can avoid doing imports until\n"
     ]
    }
   ],
   "source": [
    "#Switch to a new tab\n",
    "current_windows = driver.current_window_handle\n",
    "elementID = driver.find_element_by_xpath('//*[@id=\"trOtherAppLinks\"]/td/div/span[2]/a').click()\n",
    "all_handles = driver.window_handles\n",
    "driver.switch_to.window(all_handles[2])"
   ]
  },
  {
   "cell_type": "code",
   "execution_count": 52,
   "id": "285f50ec",
   "metadata": {},
   "outputs": [
    {
     "data": {
      "text/plain": [
       "'https://www8.miamidade.gov/Apps/PA/PAOnlineTools/Taxes/NonAdvalorem.aspx?folio=0131230371470'"
      ]
     },
     "execution_count": 52,
     "metadata": {},
     "output_type": "execute_result"
    }
   ],
   "source": [
    "#Check current url\n",
    "web_browser = driver.current_url\n",
    "web_browser"
   ]
  },
  {
   "cell_type": "code",
   "execution_count": 53,
   "id": "e7e67551",
   "metadata": {},
   "outputs": [
    {
     "name": "stderr",
     "output_type": "stream",
     "text": [
      "C:\\Users\\aviparna.biswas\\Anaconda3\\envs\\docuchief\\lib\\site-packages\\ipykernel_launcher.py:2: DeprecationWarning: find_element_by_tag_name is deprecated. Please use find_element(by=By.TAG_NAME, value=name) instead\n",
      "  \n"
     ]
    },
    {
     "data": {
      "text/plain": [
       "True"
      ]
     },
     "execution_count": 53,
     "metadata": {},
     "output_type": "execute_result"
    }
   ],
   "source": [
    "#Take screenshot\n",
    "driver.find_element_by_tag_name('html').screenshot(os.getcwd() + \"/SpecialAssessment/\" + folio_number + \".png\")"
   ]
  },
  {
   "cell_type": "code",
   "execution_count": 55,
   "id": "b0b07f24",
   "metadata": {},
   "outputs": [],
   "source": [
    "driver.quit()"
   ]
  },
  {
   "cell_type": "markdown",
   "id": "ccc02285",
   "metadata": {},
   "source": [
    "### 3. Additional Code Enforcement"
   ]
  },
  {
   "cell_type": "markdown",
   "id": "7a1ad5e5",
   "metadata": {},
   "source": [
    "#### 3.1. Set Chromedriver Path"
   ]
  },
  {
   "cell_type": "code",
   "execution_count": 56,
   "id": "76808163",
   "metadata": {},
   "outputs": [
    {
     "name": "stderr",
     "output_type": "stream",
     "text": [
      "C:\\Users\\aviparna.biswas\\Anaconda3\\envs\\docuchief\\lib\\site-packages\\ipykernel_launcher.py:2: DeprecationWarning: executable_path has been deprecated, please pass in a Service object\n",
      "  \n"
     ]
    }
   ],
   "source": [
    "#Set Chromedriver Path\n",
    "driver = webdriver.Chrome('driver/chromedriver.exe')\n",
    "driver.maximize_window()"
   ]
  },
  {
   "cell_type": "markdown",
   "id": "0d3504a9",
   "metadata": {},
   "source": [
    "#### 3.2. Launch Urls and Visit Page"
   ]
  },
  {
   "cell_type": "code",
   "execution_count": 57,
   "id": "2a90d0c1",
   "metadata": {},
   "outputs": [],
   "source": [
    "#Launch Url\n",
    "driver.get('https://gisweb.miamidade.gov/CodeViolations/')"
   ]
  },
  {
   "cell_type": "code",
   "execution_count": 58,
   "id": "f654371d",
   "metadata": {},
   "outputs": [],
   "source": [
    "#Checking for splash-screen and removing it\n",
    "try:\n",
    "    wait = WebDriverWait(driver, 5)\n",
    "    skipbutton = wait.until(EC.element_to_be_clickable((By.XPATH, '//*[@id=\"widgets_Splash_Widget_13\"]/div[2]/div[2]/div[2]/button')))\n",
    "    skipbutton.click()\n",
    "    time.sleep(3)\n",
    "except:\n",
    "    print(\"Continue Button not present\")"
   ]
  },
  {
   "cell_type": "code",
   "execution_count": 59,
   "id": "1d89142f",
   "metadata": {},
   "outputs": [
    {
     "name": "stderr",
     "output_type": "stream",
     "text": [
      "C:\\Users\\aviparna.biswas\\Anaconda3\\envs\\docuchief\\lib\\site-packages\\ipykernel_launcher.py:2: DeprecationWarning: find_element_by_xpath is deprecated. Please use find_element(by=By.XPATH, value=xpath) instead\n",
      "  \n"
     ]
    }
   ],
   "source": [
    "#Removing Pop-Up\n",
    "start_process = driver.find_element_by_xpath('//*[@id=\"dijit__TemplatedMixin_1\"]/div[1]/div').click()"
   ]
  },
  {
   "cell_type": "code",
   "execution_count": 62,
   "id": "6969465c",
   "metadata": {},
   "outputs": [
    {
     "name": "stderr",
     "output_type": "stream",
     "text": [
      "C:\\Users\\aviparna.biswas\\Anaconda3\\envs\\docuchief\\lib\\site-packages\\ipykernel_launcher.py:7: DeprecationWarning: find_element_by_xpath is deprecated. Please use find_element(by=By.XPATH, value=xpath) instead\n",
      "  import sys\n",
      "C:\\Users\\aviparna.biswas\\Anaconda3\\envs\\docuchief\\lib\\site-packages\\ipykernel_launcher.py:11: DeprecationWarning: find_element_by_xpath is deprecated. Please use find_element(by=By.XPATH, value=xpath) instead\n",
      "  # This is added back by InteractiveShellApp.init_path()\n"
     ]
    }
   ],
   "source": [
    "#Take data from config file\n",
    "file = open('configace.txt')\n",
    "lines = file.readlines()\n",
    "folio_number = lines[0]\n",
    "\n",
    "#Find elements and send keys\n",
    "elementID = driver.find_element_by_xpath('//*[@id=\"esri_dijit_Search_0_input\"]')\n",
    "elementID.send_keys(folio_number)\n",
    "\n",
    "#Searching for the data\n",
    "driver.find_element_by_xpath('//*[@id=\"esri_dijit_Search_0\"]/div/div[2]').click()"
   ]
  },
  {
   "cell_type": "markdown",
   "id": "ebe90e03",
   "metadata": {},
   "source": [
    "#### 3.3. Take Snapshots"
   ]
  },
  {
   "cell_type": "code",
   "execution_count": 63,
   "id": "1eac8e26",
   "metadata": {},
   "outputs": [
    {
     "data": {
      "text/plain": [
       "True"
      ]
     },
     "execution_count": 63,
     "metadata": {},
     "output_type": "execute_result"
    }
   ],
   "source": [
    "driver.execute_script(\"document.body.style.zoom='75%'\")\n",
    "driver.save_screenshot(os.getcwd() + \"/AddnlCodeEnforcement/\" + str(folio_number) + \".png\")"
   ]
  },
  {
   "cell_type": "code",
   "execution_count": 64,
   "id": "df5a3e17",
   "metadata": {},
   "outputs": [],
   "source": [
    "driver.quit()"
   ]
  },
  {
   "cell_type": "markdown",
   "id": "431906e2",
   "metadata": {},
   "source": [
    "### 4. Tax Collection"
   ]
  },
  {
   "cell_type": "markdown",
   "id": "ce1eec1e",
   "metadata": {},
   "source": [
    "#### 4.1. Set Chromedriver Path"
   ]
  },
  {
   "cell_type": "code",
   "execution_count": 4,
   "id": "959e5912",
   "metadata": {},
   "outputs": [
    {
     "name": "stderr",
     "output_type": "stream",
     "text": [
      "C:\\Users\\aviparna.biswas\\Anaconda3\\envs\\docuchief\\lib\\site-packages\\ipykernel_launcher.py:2: DeprecationWarning: executable_path has been deprecated, please pass in a Service object\n",
      "  \n"
     ]
    },
    {
     "ename": "WebDriverException",
     "evalue": "Message: 'chromedriver.exe' executable needs to be in PATH. Please see https://chromedriver.chromium.org/home\n",
     "output_type": "error",
     "traceback": [
      "\u001b[1;31m---------------------------------------------------------------------------\u001b[0m",
      "\u001b[1;31mFileNotFoundError\u001b[0m                         Traceback (most recent call last)",
      "\u001b[1;32m~\\Anaconda3\\envs\\docuchief\\lib\\site-packages\\selenium\\webdriver\\common\\service.py\u001b[0m in \u001b[0;36mstart\u001b[1;34m(self)\u001b[0m\n\u001b[0;32m     75\u001b[0m                                             \u001b[0mstdin\u001b[0m\u001b[1;33m=\u001b[0m\u001b[0mPIPE\u001b[0m\u001b[1;33m,\u001b[0m\u001b[1;33m\u001b[0m\u001b[1;33m\u001b[0m\u001b[0m\n\u001b[1;32m---> 76\u001b[1;33m                                             creationflags=self.creationflags)\n\u001b[0m\u001b[0;32m     77\u001b[0m         \u001b[1;32mexcept\u001b[0m \u001b[0mTypeError\u001b[0m\u001b[1;33m:\u001b[0m\u001b[1;33m\u001b[0m\u001b[1;33m\u001b[0m\u001b[0m\n",
      "\u001b[1;32m~\\Anaconda3\\envs\\docuchief\\lib\\subprocess.py\u001b[0m in \u001b[0;36m__init__\u001b[1;34m(self, args, bufsize, executable, stdin, stdout, stderr, preexec_fn, close_fds, shell, cwd, env, universal_newlines, startupinfo, creationflags, restore_signals, start_new_session, pass_fds, encoding, errors, text)\u001b[0m\n\u001b[0;32m    799\u001b[0m                                 \u001b[0merrread\u001b[0m\u001b[1;33m,\u001b[0m \u001b[0merrwrite\u001b[0m\u001b[1;33m,\u001b[0m\u001b[1;33m\u001b[0m\u001b[1;33m\u001b[0m\u001b[0m\n\u001b[1;32m--> 800\u001b[1;33m                                 restore_signals, start_new_session)\n\u001b[0m\u001b[0;32m    801\u001b[0m         \u001b[1;32mexcept\u001b[0m\u001b[1;33m:\u001b[0m\u001b[1;33m\u001b[0m\u001b[1;33m\u001b[0m\u001b[0m\n",
      "\u001b[1;32m~\\Anaconda3\\envs\\docuchief\\lib\\subprocess.py\u001b[0m in \u001b[0;36m_execute_child\u001b[1;34m(self, args, executable, preexec_fn, close_fds, pass_fds, cwd, env, startupinfo, creationflags, shell, p2cread, p2cwrite, c2pread, c2pwrite, errread, errwrite, unused_restore_signals, unused_start_new_session)\u001b[0m\n\u001b[0;32m   1206\u001b[0m                                          \u001b[0mos\u001b[0m\u001b[1;33m.\u001b[0m\u001b[0mfspath\u001b[0m\u001b[1;33m(\u001b[0m\u001b[0mcwd\u001b[0m\u001b[1;33m)\u001b[0m \u001b[1;32mif\u001b[0m \u001b[0mcwd\u001b[0m \u001b[1;32mis\u001b[0m \u001b[1;32mnot\u001b[0m \u001b[1;32mNone\u001b[0m \u001b[1;32melse\u001b[0m \u001b[1;32mNone\u001b[0m\u001b[1;33m,\u001b[0m\u001b[1;33m\u001b[0m\u001b[1;33m\u001b[0m\u001b[0m\n\u001b[1;32m-> 1207\u001b[1;33m                                          startupinfo)\n\u001b[0m\u001b[0;32m   1208\u001b[0m             \u001b[1;32mfinally\u001b[0m\u001b[1;33m:\u001b[0m\u001b[1;33m\u001b[0m\u001b[1;33m\u001b[0m\u001b[0m\n",
      "\u001b[1;31mFileNotFoundError\u001b[0m: [WinError 2] The system cannot find the file specified",
      "\nDuring handling of the above exception, another exception occurred:\n",
      "\u001b[1;31mWebDriverException\u001b[0m                        Traceback (most recent call last)",
      "\u001b[1;32m<ipython-input-4-65c495dc440d>\u001b[0m in \u001b[0;36m<module>\u001b[1;34m\u001b[0m\n\u001b[0;32m      1\u001b[0m \u001b[1;31m#Set Chromedriver Path\u001b[0m\u001b[1;33m\u001b[0m\u001b[1;33m\u001b[0m\u001b[1;33m\u001b[0m\u001b[0m\n\u001b[1;32m----> 2\u001b[1;33m \u001b[0mdriver\u001b[0m \u001b[1;33m=\u001b[0m \u001b[0mwebdriver\u001b[0m\u001b[1;33m.\u001b[0m\u001b[0mChrome\u001b[0m\u001b[1;33m(\u001b[0m\u001b[1;34m'driver/chromedriver.exe'\u001b[0m\u001b[1;33m)\u001b[0m\u001b[1;33m\u001b[0m\u001b[1;33m\u001b[0m\u001b[0m\n\u001b[0m\u001b[0;32m      3\u001b[0m \u001b[0mdriver\u001b[0m\u001b[1;33m.\u001b[0m\u001b[0mmaximize_window\u001b[0m\u001b[1;33m(\u001b[0m\u001b[1;33m)\u001b[0m\u001b[1;33m\u001b[0m\u001b[1;33m\u001b[0m\u001b[0m\n",
      "\u001b[1;32m~\\Anaconda3\\envs\\docuchief\\lib\\site-packages\\selenium\\webdriver\\chrome\\webdriver.py\u001b[0m in \u001b[0;36m__init__\u001b[1;34m(self, executable_path, port, options, service_args, desired_capabilities, service_log_path, chrome_options, service, keep_alive)\u001b[0m\n\u001b[0;32m     71\u001b[0m                                         \u001b[0mport\u001b[0m\u001b[1;33m,\u001b[0m \u001b[0moptions\u001b[0m\u001b[1;33m,\u001b[0m\u001b[1;33m\u001b[0m\u001b[1;33m\u001b[0m\u001b[0m\n\u001b[0;32m     72\u001b[0m                                         \u001b[0mservice_args\u001b[0m\u001b[1;33m,\u001b[0m \u001b[0mdesired_capabilities\u001b[0m\u001b[1;33m,\u001b[0m\u001b[1;33m\u001b[0m\u001b[1;33m\u001b[0m\u001b[0m\n\u001b[1;32m---> 73\u001b[1;33m                                         service_log_path, service, keep_alive)\n\u001b[0m",
      "\u001b[1;32m~\\Anaconda3\\envs\\docuchief\\lib\\site-packages\\selenium\\webdriver\\chromium\\webdriver.py\u001b[0m in \u001b[0;36m__init__\u001b[1;34m(self, browser_name, vendor_prefix, port, options, service_args, desired_capabilities, service_log_path, service, keep_alive)\u001b[0m\n\u001b[0;32m     87\u001b[0m \u001b[1;33m\u001b[0m\u001b[0m\n\u001b[0;32m     88\u001b[0m         \u001b[0mself\u001b[0m\u001b[1;33m.\u001b[0m\u001b[0mservice\u001b[0m \u001b[1;33m=\u001b[0m \u001b[0mservice\u001b[0m\u001b[1;33m\u001b[0m\u001b[1;33m\u001b[0m\u001b[0m\n\u001b[1;32m---> 89\u001b[1;33m         \u001b[0mself\u001b[0m\u001b[1;33m.\u001b[0m\u001b[0mservice\u001b[0m\u001b[1;33m.\u001b[0m\u001b[0mstart\u001b[0m\u001b[1;33m(\u001b[0m\u001b[1;33m)\u001b[0m\u001b[1;33m\u001b[0m\u001b[1;33m\u001b[0m\u001b[0m\n\u001b[0m\u001b[0;32m     90\u001b[0m \u001b[1;33m\u001b[0m\u001b[0m\n\u001b[0;32m     91\u001b[0m         \u001b[1;32mtry\u001b[0m\u001b[1;33m:\u001b[0m\u001b[1;33m\u001b[0m\u001b[1;33m\u001b[0m\u001b[0m\n",
      "\u001b[1;32m~\\Anaconda3\\envs\\docuchief\\lib\\site-packages\\selenium\\webdriver\\common\\service.py\u001b[0m in \u001b[0;36mstart\u001b[1;34m(self)\u001b[0m\n\u001b[0;32m     81\u001b[0m                 raise WebDriverException(\n\u001b[0;32m     82\u001b[0m                     \"'%s' executable needs to be in PATH. %s\" % (\n\u001b[1;32m---> 83\u001b[1;33m                         os.path.basename(self.path), self.start_error_message)\n\u001b[0m\u001b[0;32m     84\u001b[0m                 )\n\u001b[0;32m     85\u001b[0m             \u001b[1;32melif\u001b[0m \u001b[0merr\u001b[0m\u001b[1;33m.\u001b[0m\u001b[0merrno\u001b[0m \u001b[1;33m==\u001b[0m \u001b[0merrno\u001b[0m\u001b[1;33m.\u001b[0m\u001b[0mEACCES\u001b[0m\u001b[1;33m:\u001b[0m\u001b[1;33m\u001b[0m\u001b[1;33m\u001b[0m\u001b[0m\n",
      "\u001b[1;31mWebDriverException\u001b[0m: Message: 'chromedriver.exe' executable needs to be in PATH. Please see https://chromedriver.chromium.org/home\n"
     ]
    }
   ],
   "source": [
    "#Set Chromedriver Path\n",
    "driver = webdriver.Chrome('driver/chromedriver.exe')\n",
    "driver.maximize_window()"
   ]
  },
  {
   "cell_type": "code",
   "execution_count": null,
   "id": "b8af1e7b",
   "metadata": {},
   "outputs": [],
   "source": []
  }
 ],
 "metadata": {
  "kernelspec": {
   "display_name": "Python 3",
   "language": "python",
   "name": "python3"
  },
  "language_info": {
   "codemirror_mode": {
    "name": "ipython",
    "version": 3
   },
   "file_extension": ".py",
   "mimetype": "text/x-python",
   "name": "python",
   "nbconvert_exporter": "python",
   "pygments_lexer": "ipython3",
   "version": "3.7.11"
  }
 },
 "nbformat": 4,
 "nbformat_minor": 5
}
